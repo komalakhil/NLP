{
  "nbformat": 4,
  "nbformat_minor": 0,
  "metadata": {
    "colab": {
      "name": "Word2Vec.ipynb",
      "provenance": [],
      "collapsed_sections": [],
      "authorship_tag": "ABX9TyOBhShDE6QaGgVKQoPltZTp",
      "include_colab_link": true
    },
    "kernelspec": {
      "name": "python3",
      "display_name": "Python 3"
    },
    "language_info": {
      "name": "python"
    }
  },
  "cells": [
    {
      "cell_type": "markdown",
      "metadata": {
        "id": "view-in-github",
        "colab_type": "text"
      },
      "source": [
        "<a href=\"https://colab.research.google.com/github/komalakhil/NLP/blob/main/Word2Vec.ipynb\" target=\"_parent\"><img src=\"https://colab.research.google.com/assets/colab-badge.svg\" alt=\"Open In Colab\"/></a>"
      ]
    },
    {
      "cell_type": "code",
      "execution_count": null,
      "metadata": {
        "id": "qxDGF7XiAMQQ"
      },
      "outputs": [],
      "source": [
        "import numpy as np\n",
        "import matplotlib.pyplot as plt\n",
        "plt.style.use('ggplot')\n",
        "from sklearn.decomposition import PCA\n",
        "import gensim.downloader as api\n",
        "from gensim.models import KeyedVectors"
      ]
    },
    {
      "cell_type": "code",
      "source": [
        "model=api.load(\"glove-wiki-gigaword-100\")\n",
        "print(type(model))"
      ],
      "metadata": {
        "colab": {
          "base_uri": "https://localhost:8080/"
        },
        "id": "2uB6BhsWAwFK",
        "outputId": "31cd0092-67df-4fcb-e89f-606ae1b8da68"
      },
      "execution_count": null,
      "outputs": [
        {
          "output_type": "stream",
          "name": "stdout",
          "text": [
            "[==================================================] 100.0% 128.1/128.1MB downloaded\n",
            "<class 'gensim.models.keyedvectors.Word2VecKeyedVectors'>\n"
          ]
        }
      ]
    },
    {
      "cell_type": "code",
      "source": [
        "model['bread']"
      ],
      "metadata": {
        "colab": {
          "base_uri": "https://localhost:8080/"
        },
        "id": "LF9rp1HyAwNj",
        "outputId": "f2d94f12-cae2-4953-b212-ad5635ed9812"
      },
      "execution_count": null,
      "outputs": [
        {
          "output_type": "execute_result",
          "data": {
            "text/plain": [
              "array([-0.66146  ,  0.94335  , -0.72214  ,  0.17403  , -0.42524  ,\n",
              "        0.36303  ,  1.0135   , -0.14802  ,  0.25817  , -0.20326  ,\n",
              "       -0.64338  ,  0.16632  ,  0.61518  ,  1.397    , -0.094506 ,\n",
              "        0.0041843, -0.18976  , -0.55421  , -0.39371  , -0.22501  ,\n",
              "       -0.34643  ,  0.32076  ,  0.34395  , -0.7034   ,  0.23932  ,\n",
              "        0.69951  , -0.16461  , -0.31819  , -0.34034  , -0.44906  ,\n",
              "       -0.069667 ,  0.35348  ,  0.17498  , -0.95057  , -0.2209   ,\n",
              "        1.0647   ,  0.23231  ,  0.32569  ,  0.47662  , -1.1206   ,\n",
              "        0.28168  , -0.75172  , -0.54654  , -0.66337  ,  0.34804  ,\n",
              "       -0.69058  , -0.77092  , -0.40167  , -0.069351 , -0.049238 ,\n",
              "       -0.39351  ,  0.16735  , -0.14512  ,  1.0083   , -1.0608   ,\n",
              "       -0.87314  , -0.29339  ,  0.68278  ,  0.61634  , -0.088844 ,\n",
              "        0.88094  ,  0.099809 , -0.27161  , -0.58026  ,  0.50364  ,\n",
              "       -0.93814  ,  0.67576  , -0.43124  , -0.10517  , -1.2404   ,\n",
              "       -0.74353  ,  0.28637  ,  0.29012  ,  0.89377  ,  0.67406  ,\n",
              "        0.86422  , -0.30693  , -0.14718  ,  0.078353 ,  0.74013  ,\n",
              "        0.32658  , -0.052579 , -1.1665   ,  0.87079  , -0.69402  ,\n",
              "       -0.75977  , -0.37164  , -0.11887  ,  0.18551  ,  0.041883 ,\n",
              "        0.59352  ,  0.30519  , -0.54819  , -0.29424  , -1.4912   ,\n",
              "       -1.6548   ,  0.98982  ,  0.27325  ,  1.009    ,  0.94544  ],\n",
              "      dtype=float32)"
            ]
          },
          "metadata": {},
          "execution_count": 3
        }
      ]
    },
    {
      "cell_type": "code",
      "source": [
        "model.most_similar('bread')"
      ],
      "metadata": {
        "colab": {
          "base_uri": "https://localhost:8080/"
        },
        "id": "n1C26nXcBaEz",
        "outputId": "082e0a31-a9d0-433a-c1a6-58c6e06dd8cd"
      },
      "execution_count": null,
      "outputs": [
        {
          "output_type": "execute_result",
          "data": {
            "text/plain": [
              "[('flour', 0.7654520869255066),\n",
              " ('baked', 0.7607272267341614),\n",
              " ('cake', 0.7605516910552979),\n",
              " ('loaf', 0.7457114458084106),\n",
              " ('toast', 0.7397798895835876),\n",
              " ('cheese', 0.7374634742736816),\n",
              " ('potato', 0.7367483973503113),\n",
              " ('butter', 0.7279619574546814),\n",
              " ('potatoes', 0.7085272669792175),\n",
              " ('pasta', 0.7071877121925354)]"
            ]
          },
          "metadata": {},
          "execution_count": 4
        }
      ]
    },
    {
      "cell_type": "code",
      "source": [
        "def analogy(x1,x2,y1):\n",
        "  result=model.most_similar(positive=[y1,x2],negative=[x1])\n",
        "  return result,result[0][0]"
      ],
      "metadata": {
        "id": "2fvCULpSBfMz"
      },
      "execution_count": null,
      "outputs": []
    },
    {
      "cell_type": "code",
      "source": [
        "analogy('man','king','woman')"
      ],
      "metadata": {
        "colab": {
          "base_uri": "https://localhost:8080/"
        },
        "id": "q9BnFPxpB9-s",
        "outputId": "a7e54f60-cc7a-4456-e9e7-669154c77e9a"
      },
      "execution_count": null,
      "outputs": [
        {
          "output_type": "execute_result",
          "data": {
            "text/plain": [
              "([('queen', 0.7698541283607483),\n",
              "  ('monarch', 0.6843380928039551),\n",
              "  ('throne', 0.6755735874176025),\n",
              "  ('daughter', 0.6594556570053101),\n",
              "  ('princess', 0.6520534753799438),\n",
              "  ('prince', 0.6517034769058228),\n",
              "  ('elizabeth', 0.6464517712593079),\n",
              "  ('mother', 0.6311717629432678),\n",
              "  ('emperor', 0.6106470823287964),\n",
              "  ('wife', 0.6098655462265015)],\n",
              " 'queen')"
            ]
          },
          "metadata": {},
          "execution_count": 11
        }
      ]
    },
    {
      "cell_type": "code",
      "source": [
        "analogy('pencil','sketching','camera')"
      ],
      "metadata": {
        "colab": {
          "base_uri": "https://localhost:8080/"
        },
        "id": "0h_E6d6_CC-5",
        "outputId": "e584ec85-ea17-48c2-8521-86899a97a895"
      },
      "execution_count": null,
      "outputs": [
        {
          "output_type": "execute_result",
          "data": {
            "text/plain": [
              "([('photographing', 0.607218861579895),\n",
              "  ('viewing', 0.6046408414840698),\n",
              "  ('filming', 0.5771758556365967),\n",
              "  ('cameras', 0.5654740929603577),\n",
              "  ('watching', 0.5324252247810364),\n",
              "  ('observing', 0.5165165662765503),\n",
              "  ('backstage', 0.514154851436615),\n",
              "  ('designing', 0.5066272616386414),\n",
              "  ('photography', 0.5055526494979858),\n",
              "  ('modeling', 0.5053764581680298)],\n",
              " 'photographing')"
            ]
          },
          "metadata": {},
          "execution_count": 14
        }
      ]
    },
    {
      "cell_type": "code",
      "source": [
        ""
      ],
      "metadata": {
        "id": "pWc78i33EX7T"
      },
      "execution_count": null,
      "outputs": []
    }
  ]
}